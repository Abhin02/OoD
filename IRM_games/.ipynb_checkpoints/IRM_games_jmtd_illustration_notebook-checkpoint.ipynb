{
 "cells": [
  {
   "cell_type": "markdown",
   "metadata": {},
   "source": [
    "## Instructions\n",
    "1. Run all the cells sequentially. \n",
    "2. The experiments are based on the works (Ahuja et.al. https://arxiv.org/pdf/2002.04692.pdf) and (Arjosvsky et.al. https://arxiv.org/pdf/1907.02893.pdf). If anything is unclear about the methods please refer to the above papers.\n",
    "3. We have comments in front of each command to guide one through the details of the implementation.\n",
    "\n",
    "\n",
    "\n",
    "## Overview\n",
    "1. In the first half of the notebook, we examine F-IRM game and V-IRM game (from Ahuja et.al.) for various different settings, e.g., different datasets, different number of environments, using different architectures MLP and CNN\n",
    "2. In the latter half of the notebook, we examine IRM (Arjovsky et.al.) and standard empirical risk minimization (ERM). \n",
    "\n",
    "\n",
    "## External libraries used\n",
    "1. We use several external libraries. Please ensure you have numpy, tensorflow (version used for this notebook 1.14), matplotlib, sklearn, pandas, copy.\n",
    "\n",
    "## Internal libraries summary\n",
    "1. data_constructor.py: in this file we define two classes <br>\n",
    "    assemble_data_mnist( ): for creating colored environments for MNIST digits <br>\n",
    "    assemble_data_mnist_fashion( ): for creating colored environments for MNIST fashion <br>\n",
    "\n",
    "\n",
    "2. IRM_methods.py: in this file we define four classes <br>\n",
    "    a) fixed_irm_game_model <br>\n",
    "    b) variable_irm_game_model <br>\n",
    "    c) irm_model <br>\n",
    "    d) standard_erm_model <br>\n",
    "    \n",
    "    Each class is initialized using hyperparameters for the corresponding model.\n",
    "    Each class has a fit method, which takes as input the data from the different environments and trains the models. Finally, each class has an evaluation method, which takes the test data from test environment as input and outputs the accuracy on the test data and also on the train data that was used.  "
   ]
  },
  {
   "cell_type": "markdown",
   "metadata": {},
   "source": [
    "### data_constructor.py explained\n",
    "\n",
    "The datasets used in Ahuja et.al. and Arjovsky et.al. essentially modified standard datasets such as MNIST digits, fashion MNIST to create multiple environments with different degrees of spurious correlations and the labels. Here we describe the classes that allow to create these datasets.\n",
    "\n",
    "    1. data_constructor.py consists of two classes: assemble_data_mnist() and assemble_data_mnist_fashion() \n",
    "        a) assemble_data_mnist()/assemble_data_mnist_fashion() has following functions \n",
    "            i) create_training_data(n_e, p_color_list, p_label_list):\n",
    "                n_e: number of environments, p_color_list: list of probabilities of switching the final label to obtain the color index, p_label_list: list of probabilities of switching pre-label\n",
    "            ii) create_testing_data(p_color_test, p_label_test, n_e): \n",
    "                n_e: number of environments, p_color_test: probability of switching the final label to obtain the color index in test environment, p_label_test: probability of switching pre-label in test environment\n",
    "        b)  assemble_data_mnist()/assemble_data_mnist_fashion() following attributes:\n",
    "            i) data_tuple_list: list of length n_e, each element of the list is a tuple with three elements (data, label, environment index)\n",
    "            ii) data_tuple_test: tuple with three elements (data_test, label_test, test environment index)\n",
    "    "
   ]
  },
  {
   "cell_type": "markdown",
   "metadata": {},
   "source": [
    "### IRM_methods.py explained\n",
    "\n",
    "    1. fixed_irm_game_model class. Implements fixed-IRM game from Ahuja et.al.\n",
    "    \n",
    "        A) Initialization:\n",
    "        fixed_irm_game_model(model_list, learning_rate, num_epochs, batch_size, termination_acc, warm_start)\n",
    "           i) model_list: list of models for each environment; use keras to construct the architectures\n",
    "           ii) learning_rate: learning rate for Adam optimizer for training the models for each environment\n",
    "           iii) batch_size: size of the batch used for each gradient update\n",
    "            iv) num_epochs: number of epochs is number of training steps = number of training samples//batch size (each epoch is one full pass of the training data)\n",
    "            v) termination_acc: once the model accuracy falls below this threshold we terminate training\n",
    "           vi) warm_start: minimum number of steps before we terminate due to accuracy falling below threshold\n",
    "\n",
    "        B) Methods:\n",
    "            i) fit(data_tuple_list): takes data_tuple_list and trains the models\n",
    "                   data_tuple_list- list of length n_e, each element of the list is a tuple with three elements (data, label, environment index)     \n",
    "            ii) evaluate(data_tuple_test): tuple with three elements (data_test, label_test, test environment index)\n",
    "\n",
    "        C) Attributes:\n",
    "            i) model_list: list of models for each environment\n",
    "            ii) train_acc: training accuracy (use after running evaluate method)\n",
    "            iii) test_acc: testing accuracy  (use after running evaluate method) \n",
    "\n",
    "    2. variable_irm_game_model class. Implements variable-IRM game from Ahuja et.al.. It has same hyperparameters, methods and attributes as  fixed_irm_game_model. \n",
    "    \n",
    "        A) Initialization: variable_irm_game_model(model_list, learning_rate, num_epochs, batch_size, termination_acc, warm_start)\n",
    "           i) model_list: list of models for each environment and the representation learner; note the main difference between variable_irm_game_model and fixed_irm_game_model is model_list also contains a model for the representation learner that we learn \n",
    "           ii) learning_rate: learning rate for Adam optimizer for training the models for each environment\n",
    "           iii) batch_size: size of the batch used for each gradient update\n",
    "            iv) num_epochs: number of epochs is number of training steps = number of training samples//batch size (each epoch is one full pass of the training data)\n",
    "           v) termination_acc: once the model accuracy falls below this threshold we terminate training\n",
    "            vi) warm_start: minimum number of steps before we terminate due to accuracy falling below threshold\n",
    "\n",
    "        B) Methods:\n",
    "            i) fit(data_tuple_list): takes data_tuple_list and trains the models\n",
    "                   data_tuple_list: list of length n_e, each element of the list is a tuple with three elements (data, label, environment index)\n",
    "\n",
    "            ii) evaluate(data_tuple_test): tuple with three elements (data_test, label_test, test environment index)\n",
    "\n",
    "        C) Attributes:\n",
    "            i) model_list: list of models for each environment\n",
    "            ii) train_acc: training accuracy (use after running evaluate method)\n",
    "            iii) test_acc: testing accuracy  (use after running evaluate method) \n",
    "\n",
    "    3. irm_model. Implements IRM v1 from Arjovsky et.al. \n",
    "\n",
    "        A) Initialization:\n",
    "            irm_model(model_irm, learning_rate, batch_size, steps_max, steps_threshold, gamma_new)\n",
    "            i) model_irm: a keras model passed as input\n",
    "            ii) learning_rate: learning rate for Adam optimizer\n",
    "            iii) batch_size: size of the batch per gradient update\n",
    "            iv) steps_max: maximum number of gradient updates\n",
    "            v) steps_threshold: threshold after which to update the penalty value\n",
    "            vi) gamma_new: penatly to be used after steps_threshold, upto steps_threshold a penalty of gamma=1 is used\n",
    "\n",
    "\n",
    "        B) Methods:\n",
    "            i) fit(data_tuple_list): takes data_tuple_list and trains the model\n",
    "                   data_tuple_list- list of length n_e, each element of the list is a tuple with three elements (data, label, environment index)     \n",
    "            ii) evaluate(data_tuple_test): tuple with three elements (data_test, label_test, test environment index) \n",
    "\n",
    "\n",
    "         C) Attributes:\n",
    "                i) train_acc: training accuracy (use after running evaluate method)\n",
    "                ii) test_acc: testing accuracy  (use after running evaluate method) \n",
    "\n",
    "    4. standard_erm_model. Implements standard empirical risk minimization. \n",
    "        A) Initialization: \n",
    "            standard_erm_model(model_erm, num_epochs, batch_size):\n",
    "                i) model_erm: a keras model passed as input\n",
    "                ii) num_epochs: number of epochs\n",
    "                iii) batch_size: size of batch per gradient update\n",
    "                iv) learning_rate: learning rate for Adam optimizer\n",
    "        \n",
    "        B) Methods:\n",
    "            i) fit(data_tuple_list): takes data_tuple_list and trains the model\n",
    "                   data_tuple_list- list of length n_e, each element of the list is a tuple with three elements (data, label, environment index)     \n",
    "            ii) evaluate(data_tuple_test): tuple with three elements (data_test, label_test, test environment index) \n",
    "\n",
    "\n",
    "         C) Attributes:\n",
    "                i) train_acc: training accuracy (use after running evaluate method)\n",
    "                ii) test_acc: testing accuracy  (use after running evaluate method)    \n",
    "            \n",
    "\n"
   ]
  },
  {
   "cell_type": "markdown",
   "metadata": {},
   "source": [
    "## IRM \n",
    "\n",
    "#### Training data:\n",
    "Data from different environments $\\mathcal{D} = \\{\\{(x_i^{q},y_i^{q}\\}_{i=1}^{n_q}\\}_{q=1}^{K}$, where $K$ is number of environments and $n_q$ is number of points in environment with index $q$.\n",
    "\n",
    "#### Invariant predictor:  \n",
    "Define a representation $\\phi:\\mathcal{X} \\rightarrow \\mathcal{Z}$ and a classifier $w: \\mathcal{Z} \\rightarrow \\mathbb{R}^k$. The predictor is composite function $w\\circ \\phi$. We define a predictor $w\\circ \\phi$ to be invariant if a same classifier $w$ minimizes the risk across all the environments, i.e. $w \\in \\arg\\min_{\\bar{w}} R^{e}(\\bar{w}\\circ \\phi), \\forall e \\in \\{1,.., K\\} $, where risk is expected loss of predictor w.r.t labels.\n",
    "\n",
    "#### IRM from Arjovsky et.al. objective \n",
    "\n",
    "Consider the following alternate minimization problem \n",
    "\n",
    "$\\min_{\\phi} \\sum_{q=1}^{K}R^{q}(\\phi)  + \\lambda \\sum_{q=1}^{K}\\nabla_{w |w=1.0} R^{q}(w.\\Phi)$\n",
    "\n",
    "We use the above objective to train a neural network that model for $\\phi$ \n",
    "\n",
    "\n",
    "#### IRM games Ahuja et.al. objective \n",
    "\n",
    "Define a classifier for each environment $w^q: \\mathcal{X} \\rightarrow \\mathbb{R}^k$ and $w^{av}= \\frac{1}{K}\\sum_{q=1}^{K}w^{q}$.  \n",
    "\n",
    "The objective of each environment $e$ is $R^{e}(w^{av} \\circ \\phi) $, where $w^{av}= \\frac{1}{K}\\sum_{q=1}^{K}w^{q}$. \n",
    "\n",
    "In the F-IRM approach (F-IRM game). We fix $\\phi$ to identity. Each environment takes turn to optimize $R^{e}(w^{av} \\circ \\phi) $. The environment $e$ updates the classifier  $w^e$ using SGD  step $R^{e}(w^{av} \\circ \\phi) $.\n",
    "\n",
    "In the V-IRM approach (V-IRM game).  The objective of the representation learner  is $\\sum_{q=1}^{K}R^{q}(w^{av} \\circ \\phi) $. The representation learner updates $\\phi$ using SGD updates and between two updates environments takes turn to update $w^e$.\n",
    "Each environment takes turn to optimize $R^{e}(w^{av} \\circ \\phi) $. The environment $e$ updates the classifier  $w^e$ using SGD  step $R^{e}(w^{av} \\circ \\phi) $.  \n",
    "\n",
    "\n",
    "\n",
    "\n",
    "\n"
   ]
  },
  {
   "cell_type": "markdown",
   "metadata": {},
   "source": [
    "# Import external libraries"
   ]
  },
  {
   "cell_type": "code",
   "execution_count": 1,
   "metadata": {},
   "outputs": [],
   "source": [
    "import tensorflow as tf\n",
    "import numpy as np\n",
    "import argparse\n",
    "import IPython.display as display\n",
    "import matplotlib.pyplot as plt\n",
    "from tensorflow import keras\n",
    "from sklearn.model_selection import train_test_split\n",
    "from sklearn.utils import shuffle\n",
    "import pandas as pd\n",
    "import tensorflow as tf\n",
    "tf.compat.v1.enable_eager_execution()\n",
    "# import cProfile\n",
    "import copy as cp\n",
    "from sklearn.model_selection import KFold"
   ]
  },
  {
   "cell_type": "code",
   "execution_count": 2,
   "metadata": {},
   "outputs": [
    {
     "name": "stdout",
     "output_type": "stream",
     "text": [
      "1.14.0\n"
     ]
    },
    {
     "data": {
      "text/plain": [
       "True"
      ]
     },
     "execution_count": 2,
     "metadata": {},
     "output_type": "execute_result"
    }
   ],
   "source": [
    "print(tf.__version__)\n",
    "tf.executing_eagerly()"
   ]
  },
  {
   "cell_type": "markdown",
   "metadata": {},
   "source": [
    "# Import IRM libraries\n"
   ]
  },
  {
   "cell_type": "code",
   "execution_count": 3,
   "metadata": {},
   "outputs": [],
   "source": [
    "from data_construct import * ## contains functions for constructing data \n",
    "from IRM_methods import *    ## contains IRM games methods "
   ]
  },
  {
   "cell_type": "markdown",
   "metadata": {},
   "source": [
    "# MNIST digits:  2 environments\n",
    "\n",
    "Below we illustrate how to use our IRM methods. \n",
    "We first setup the data in the cell below.  We set p_color_list = [0.2, 0.1] (from experiments in Arjovsky et.al.); note that there is marginal difference between the probabilities of switching the labels in the two environments. This marginal difference is useful for IRM methods to learn invariant predictors across environments that exploit the shape of digits and not the color. "
   ]
  },
  {
   "cell_type": "code",
   "execution_count": 4,
   "metadata": {},
   "outputs": [],
   "source": [
    "# Create data for each environment\n",
    "\n",
    "n_e = 2  # number of environments\n",
    "\n",
    "p_color_list = [0.2, 0.1] # list of probabilities of switching the final label to obtain the color index\n",
    "p_label_list = [0.25]*n_e # list of probabilities of switching pre-label\n",
    "D = assemble_data_mnist() # initialize mnist digits data object\n",
    "\n",
    "D.create_training_data(n_e, p_color_list, p_label_list) # creates the training environments\n",
    "\n",
    "p_label_test = 0.25 # probability of switching pre-label in test environment\n",
    "p_color_test = 0.9  # probability of switching the final label to obtain the color index in test environment\n",
    "\n",
    "D.create_testing_data(p_color_test, p_label_test, n_e)  # sets up the testing environment\n",
    "(num_examples_environment,length, width, height) = D.data_tuple_list[0][0].shape # attributes of the data\n",
    "num_classes = len(np.unique(D.data_tuple_list[0][1])) # number of classes in the data"
   ]
  },
  {
   "cell_type": "markdown",
   "metadata": {},
   "source": [
    "### Initialize the architecture for F-IRM game \n",
    "\n",
    "In the cell below, for each environment we initialize an architecture. We use the MLP architectue that was described in https://arxiv.org/pdf/2002.04692.pdf . \n",
    "\n",
    "If you decide to choose a new architecture, please take care to ensure that you keep the input shape as is that is length, width, and height (which we obtained above) and output shape as num_classes."
   ]
  },
  {
   "cell_type": "code",
   "execution_count": 6,
   "metadata": {},
   "outputs": [
    {
     "name": "stdout",
     "output_type": "stream",
     "text": [
      "WARNING:tensorflow:Large dropout rate: 0.75 (>0.5). In TensorFlow 2.x, dropout() uses dropout rate instead of keep_prob. Please ensure that this is intended.\n"
     ]
    }
   ],
   "source": [
    "# we use same architecture across environments and store it in a list\n",
    "model_list = [] \n",
    "for e in range(n_e):\n",
    "    model_list.append(keras.Sequential([\n",
    "            keras.layers.Flatten(input_shape=(length, width,height)),\n",
    "            keras.layers.Dense(390, activation = 'elu'),\n",
    "             keras.layers.Dropout(0.75),\n",
    "            keras.layers.Dense(390, activation='elu'),\n",
    "             keras.layers.Dropout(0.75),\n",
    "            keras.layers.Dense(num_classes)\n",
    "    ]))"
   ]
  },
  {
   "cell_type": "markdown",
   "metadata": {},
   "source": [
    "### Select other hyper-parameters for the F-IRM game\n"
   ]
  },
  {
   "cell_type": "code",
   "execution_count": 7,
   "metadata": {},
   "outputs": [],
   "source": [
    "\n",
    "num_epochs       = 25\n",
    "batch_size       = 256\n",
    "termination_acc  = 0.6\n",
    "warm_start       = 100\n",
    "learning_rate    = 2.5e-4\n",
    "\n",
    "# other hyper-parameters to try \n",
    "# num_epochs       = 25\n",
    "# batch_size       = 256\n",
    "# termination_acc  = 0.53\n",
    "# warm_start       = 100\n",
    "# learning_rate    = 5e-4"
   ]
  },
  {
   "cell_type": "markdown",
   "metadata": {},
   "source": [
    "### Initialize F-IRM model, fit and evaluate"
   ]
  },
  {
   "cell_type": "code",
   "execution_count": null,
   "metadata": {},
   "outputs": [
    {
     "name": "stdout",
     "output_type": "stream",
     "text": [
      "Epoch: 0\n",
      "Epoch: 1\n"
     ]
    }
   ],
   "source": [
    "# initialize F-IRM model (we pass the hyper-parameters that we chose above)\n",
    "F_game = fixed_irm_game_model(model_list, learning_rate, num_epochs, batch_size, termination_acc, warm_start) \n",
    "\n",
    "# fit function runs the training on the data that we created\n",
    "F_game.fit(D.data_tuple_list)\n",
    "\n",
    "# evaluate function runs and evaluates train and test accuracy of the final model\n",
    "F_game.evaluate(D.data_tuple_test) \n",
    "\n",
    "# print train and test accuracy\n",
    "print (\"Training accuracy \" + str(F_game.train_acc)) \n",
    "print (\"Testing accuracy \" + str(F_game.test_acc))"
   ]
  },
  {
   "cell_type": "markdown",
   "metadata": {},
   "source": [
    "### Selecting termination_acc using training accuracy plot\n",
    "\n",
    "1. Start by setting a very low termination accuracy value say 0.1 and large number of epochs. \n",
    "2. Plot the training accuracy plot to see the range of oscillations; use the minimum value around which oscillation occurs as the threshold \n",
    "\n",
    "3. In the above experiment, we found 0.6 to be the value based on the plot. "
   ]
  },
  {
   "cell_type": "code",
   "execution_count": 15,
   "metadata": {},
   "outputs": [
    {
     "data": {
      "text/plain": [
       "[<matplotlib.lines.Line2D at 0x26fa46ed0>]"
      ]
     },
     "execution_count": 15,
     "metadata": {},
     "output_type": "execute_result"
    },
    {
     "data": {
      "image/png": "[encoded data removed]",
      "text/plain": [
       "<Figure size 432x288 with 1 Axes>"
      ]
     },
     "metadata": {
      "needs_background": "light"
     },
     "output_type": "display_data"
    }
   ],
   "source": [
    "plt.xlabel(\"Training steps\")\n",
    "plt.ylabel(\"Training accuracy\")\n",
    "plt.plot(F_game.train_accuracy_results)"
   ]
  },
  {
   "cell_type": "markdown",
   "metadata": {},
   "source": [
    "### Initialize the architecture for V-IRM game \n",
    "\n",
    "In the cell below, for each environment we initialize an architecture. We use the MLP architectue that was described in https://arxiv.org/pdf/2002.04692.pdf.\n",
    "\n",
    "If you choose a new architecture, please take care to ensure that you keep the input shape as length, width, and height (which we obtained above) and output shape is num_classes."
   ]
  },
  {
   "cell_type": "code",
   "execution_count": 16,
   "metadata": {},
   "outputs": [],
   "source": [
    "\n",
    "model_list = [] # we use same architecture across environments and store it in a list and the last element of the list \n",
    "# corresponds to the architecture for the representation learner\n",
    "for e in range(n_e+1):\n",
    "    if(e<=n_e-1): \n",
    "        model_list.append( keras.Sequential([\n",
    "            keras.layers.Flatten(input_shape=(390,1)),\n",
    "            keras.layers.Dense(390, activation = 'elu'),\n",
    "            keras.layers.Dropout(0.75),\n",
    "            keras.layers.Dense(390, activation='elu'),\n",
    "            keras.layers.Dropout(0.75),\n",
    "            keras.layers.Dense(num_classes)\n",
    "        ]))\n",
    "    if(e==n_e):\n",
    "        model_list.append(keras.Sequential([\n",
    "        keras.layers.Flatten(input_shape=(length, width,height)),\n",
    "        keras.layers.Dense(390, activation = 'elu',kernel_regularizer=keras.regularizers.l2(0.00125)),\n",
    "      ]))"
   ]
  },
  {
   "cell_type": "markdown",
   "metadata": {},
   "source": [
    "### Select other hyper-parameters for the V-IRM game\n"
   ]
  },
  {
   "cell_type": "code",
   "execution_count": 17,
   "metadata": {},
   "outputs": [],
   "source": [
    "\n",
    "num_epochs       = 25\n",
    "batch_size       = 256\n",
    "termination_acc  = 0.55\n",
    "warm_start       = 100\n",
    "learning_rate    = 2.5e-4\n"
   ]
  },
  {
   "cell_type": "markdown",
   "metadata": {},
   "source": [
    "### Initialize V-IRM model, fit and evaluate"
   ]
  },
  {
   "cell_type": "code",
   "execution_count": 18,
   "metadata": {},
   "outputs": [
    {
     "name": "stdout",
     "output_type": "stream",
     "text": [
      "Epoch: 0\n",
      "Epoch: 1\n",
      "Epoch: 2\n",
      "Epoch: 3\n",
      "0.4804333448410034\n",
      "0.6653000116348267\n"
     ]
    }
   ],
   "source": [
    "# initialize V-IRM model (we pass the hyper-parameters that we chose above)\n",
    "V_game = variable_irm_game_model(model_list, learning_rate, num_epochs, batch_size, termination_acc, warm_start) \n",
    "\n",
    "# fit function runs the training on the data that we created\n",
    "V_game.fit(D.data_tuple_list) \n",
    "\n",
    "# evaluate function runs and evaluates train and test accuracy of the final model\n",
    "V_game.evaluate(D.data_tuple_test) \n",
    "\n",
    "# print train and test accuracy\n",
    "print (V_game.train_acc)\n",
    "print (V_game.test_acc)"
   ]
  },
  {
   "cell_type": "markdown",
   "metadata": {},
   "source": [
    "### Selecting termination_acc using training accuracy plot\n",
    "\n",
    "\n",
    "1. Start by setting a very low termination accuracy value say 0.1 and large number of epochs. \n",
    "2. Plot the training accuracy plot to see the range of oscillations; use the minimum value around which oscillation occurs as the threshold \n",
    "\n",
    "3. In the above experiment, we found 0.55 to be the value based on the plot.  "
   ]
  },
  {
   "cell_type": "code",
   "execution_count": 19,
   "metadata": {},
   "outputs": [
    {
     "data": {
      "text/plain": [
       "[<matplotlib.lines.Line2D at 0x2b51dbc50>]"
      ]
     },
     "execution_count": 19,
     "metadata": {},
     "output_type": "execute_result"
    },
    {
     "data": {
      "image/png": "[encoded data removed]",
      "text/plain": [
       "<Figure size 432x288 with 1 Axes>"
      ]
     },
     "metadata": {
      "needs_background": "light"
     },
     "output_type": "display_data"
    }
   ],
   "source": [
    "plt.xlabel(\"Training steps\")\n",
    "plt.ylabel(\"Training accuracy\")\n",
    "plt.plot(V_game.train_accuracy_results)"
   ]
  },
  {
   "cell_type": "markdown",
   "metadata": {},
   "source": [
    "# Fashion MNIST: 2 environments\n",
    "\n",
    "We replicate the same experiments as above for Fashion MNIST data. "
   ]
  },
  {
   "cell_type": "code",
   "execution_count": 20,
   "metadata": {},
   "outputs": [],
   "source": [
    "# Create data for each environment\n",
    "\n",
    "n_e = 2    # number of environments\n",
    "\n",
    "p_color_list = [0.2, 0.1]   # list of probabilities of switching the final label to obtain the color index\n",
    "p_label_list = [0.25]*n_e   # list of probabilities of switching pre-label\n",
    "D = assemble_data_mnist_fashion()  # initialize mnist fashion data object\n",
    "\n",
    "D.create_training_data(n_e, p_color_list, p_label_list) # create the training environments\n",
    "p_label_test = 0.25     # probability of switching pre-label in test environment\n",
    "p_color_test = 0.9      # probability of switching the final label to obtain the color index in test environment\n",
    "\n",
    "D.create_testing_data(p_color_test, p_label_test, n_e)  # create the testing environments\n",
    "(num_examples_environment,length, width, height) = D.data_tuple_list[0][0].shape # attributes of the data\n",
    "num_classes = len(np.unique(D.data_tuple_list[0][1])) # number of classes in the data"
   ]
  },
  {
   "cell_type": "markdown",
   "metadata": {},
   "source": [
    "### Initialize the architecture for F-IRM game "
   ]
  },
  {
   "cell_type": "code",
   "execution_count": 27,
   "metadata": {},
   "outputs": [],
   "source": [
    "# we use same architecture across environments and store it in a list\n",
    "model_list = [] \n",
    "for e in range(n_e):\n",
    "    model_list.append(keras.Sequential([\n",
    "            keras.layers.Flatten(input_shape=(length, width,height)),\n",
    "            keras.layers.Dense(390, activation = 'elu'),\n",
    "             keras.layers.Dropout(0.75),\n",
    "            keras.layers.Dense(390, activation='elu'),\n",
    "             keras.layers.Dropout(0.75),\n",
    "            keras.layers.Dense(num_classes)\n",
    "    ]))"
   ]
  },
  {
   "cell_type": "markdown",
   "metadata": {},
   "source": [
    "### Select other hyper-parameters for the F-IRM game"
   ]
  },
  {
   "cell_type": "code",
   "execution_count": 28,
   "metadata": {},
   "outputs": [],
   "source": [
    "\n",
    "num_epochs       = 25\n",
    "batch_size       = 256\n",
    "termination_acc  = 0.6\n",
    "warm_start       = 100\n",
    "learning_rate    = 2.5e-4\n"
   ]
  },
  {
   "cell_type": "markdown",
   "metadata": {},
   "source": [
    "### Initialize F-IRM model, fit and evaluate"
   ]
  },
  {
   "cell_type": "code",
   "execution_count": 29,
   "metadata": {},
   "outputs": [
    {
     "name": "stdout",
     "output_type": "stream",
     "text": [
      "Epoch: 0\n",
      "Epoch: 1\n",
      "Training accuracy 0.5774815082550049\n",
      "Testing accuracy 0.6886666417121887\n"
     ]
    }
   ],
   "source": [
    "# initialize F-IRM model (we pass the hyper-parameters that we chose above)\n",
    "F_game = fixed_irm_game_model(model_list, learning_rate, num_epochs, batch_size, termination_acc, warm_start) \n",
    "\n",
    "# fit function runs the training on the data that we created\n",
    "F_game.fit(D.data_tuple_list)\n",
    "\n",
    "# evaluate function runs and evaluates train and test accuracy of the final model\n",
    "F_game.evaluate(D.data_tuple_test) \n",
    "\n",
    "# print train and test accuracy\n",
    "print (\"Training accuracy \" + str(F_game.train_acc)) \n",
    "print (\"Testing accuracy \" + str(F_game.test_acc))"
   ]
  },
  {
   "cell_type": "markdown",
   "metadata": {},
   "source": [
    "### Selecting termination_acc using training accuracy plot\n",
    "\n",
    "1. Start by setting a very low termination accuracy value say 0.1 and large number of epochs. \n",
    "2. Plot the training accuracy plot to see the range of oscillations; use the minimum value around which oscillation occurs as the threshold \n",
    "\n",
    "3. In the above experiment, we found 0.6 to be the value based on the plot. "
   ]
  },
  {
   "cell_type": "code",
   "execution_count": 30,
   "metadata": {
    "scrolled": true
   },
   "outputs": [
    {
     "data": {
      "text/plain": [
       "[<matplotlib.lines.Line2D at 0x2230071d0>]"
      ]
     },
     "execution_count": 30,
     "metadata": {},
     "output_type": "execute_result"
    },
    {
     "data": {
      "image/png": "[encoded data removed]",
      "text/plain": [
       "<Figure size 432x288 with 1 Axes>"
      ]
     },
     "metadata": {
      "needs_background": "light"
     },
     "output_type": "display_data"
    }
   ],
   "source": [
    "plt.xlabel(\"Training steps\")\n",
    "plt.ylabel(\"Training accuracy\")\n",
    "plt.plot(F_game.train_accuracy_results)"
   ]
  },
  {
   "cell_type": "markdown",
   "metadata": {},
   "source": [
    "### Initialize the architecture for V-IRM game"
   ]
  },
  {
   "cell_type": "code",
   "execution_count": 40,
   "metadata": {},
   "outputs": [],
   "source": [
    "model_list = [] # we use same architecture across environments and store it in a list and the last element of the list \n",
    "# corresponds to the architecture for the representation learner\n",
    "for e in range(n_e+1):\n",
    "    if(e<=n_e-1): \n",
    "        model_list.append( keras.Sequential([\n",
    "            keras.layers.Flatten(input_shape=(390,1)),\n",
    "            keras.layers.Dense(390, activation = 'elu',kernel_regularizer=keras.regularizers.l2(0.00125)),\n",
    "            keras.layers.Dropout(0.75),\n",
    "            keras.layers.Dense(390, activation='elu',kernel_regularizer=keras.regularizers.l2(0.00125)),\n",
    "            keras.layers.Dropout(0.75),\n",
    "            keras.layers.Dense(num_classes)\n",
    "        ]))\n",
    "    if(e==n_e):\n",
    "        model_list.append(keras.Sequential([\n",
    "        keras.layers.Flatten(input_shape=(length, width, height)),\n",
    "        keras.layers.Dense(390, activation = 'elu',kernel_regularizer=keras.regularizers.l2(0.00125)),\n",
    "      ]))"
   ]
  },
  {
   "cell_type": "markdown",
   "metadata": {},
   "source": [
    "### Select other hyper-parameters for the V-IRM game\n"
   ]
  },
  {
   "cell_type": "code",
   "execution_count": 41,
   "metadata": {},
   "outputs": [],
   "source": [
    "\n",
    "num_epochs       = 25\n",
    "batch_size       = 256\n",
    "termination_acc  = 0.6\n",
    "warm_start       = 100\n",
    "learning_rate    = 2.5e-4\n"
   ]
  },
  {
   "cell_type": "markdown",
   "metadata": {},
   "source": [
    "### Initialize V-IRM model, fit and evaluate"
   ]
  },
  {
   "cell_type": "code",
   "execution_count": 42,
   "metadata": {},
   "outputs": [
    {
     "name": "stdout",
     "output_type": "stream",
     "text": [
      "Epoch: 0\n",
      "Epoch: 1\n",
      "Epoch: 2\n",
      "Epoch: 3\n",
      "Epoch: 4\n",
      "Epoch: 5\n",
      "Epoch: 6\n",
      "Epoch: 7\n",
      "Epoch: 8\n",
      "Epoch: 9\n",
      "Epoch: 10\n",
      "Epoch: 11\n",
      "Epoch: 12\n",
      "Epoch: 13\n",
      "Epoch: 14\n",
      "Epoch: 15\n",
      "Epoch: 16\n",
      "Epoch: 17\n",
      "Epoch: 18\n",
      "Epoch: 19\n",
      "Epoch: 20\n",
      "Epoch: 21\n",
      "0.5962592363357544\n",
      "0.5986666679382324\n"
     ]
    }
   ],
   "source": [
    "# initialize V-IRM model (we pass the hyper-parameters that we chose above)\n",
    "V_game = variable_irm_game_model(model_list, learning_rate, num_epochs, batch_size, termination_acc, warm_start) \n",
    "\n",
    "# fit function runs the training on the data that we created\n",
    "V_game.fit(D.data_tuple_list) \n",
    "\n",
    "# evaluate function runs and evaluates train and test accuracy of the final model\n",
    "V_game.evaluate(D.data_tuple_test) \n",
    "\n",
    "# print train and test accuracy\n",
    "print (V_game.train_acc)\n",
    "print (V_game.test_acc)"
   ]
  },
  {
   "cell_type": "markdown",
   "metadata": {},
   "source": [
    "### Selecting termination_acc using training accuracy plot\n",
    "\n",
    "\n",
    "1. Start by setting a very low termination accuracy value say 0.1 and large number of epochs. \n",
    "2. Plot the training accuracy plot to see the range of oscillations; use the minimum value around which oscillation occurs as the threshold \n",
    "\n",
    "3. In the above experiment, we found 0.5 to be the value based on the plot.  "
   ]
  },
  {
   "cell_type": "code",
   "execution_count": 43,
   "metadata": {},
   "outputs": [
    {
     "data": {
      "text/plain": [
       "[<matplotlib.lines.Line2D at 0x223b2a190>]"
      ]
     },
     "execution_count": 43,
     "metadata": {},
     "output_type": "execute_result"
    },
    {
     "data": {
      "image/png": "[encoded data removed]",
      "text/plain": [
       "<Figure size 432x288 with 1 Axes>"
      ]
     },
     "metadata": {
      "needs_background": "light"
     },
     "output_type": "display_data"
    }
   ],
   "source": [
    "plt.xlabel(\"Training steps\")\n",
    "plt.ylabel(\"Training accuracy\")\n",
    "plt.plot(V_game.train_accuracy_results)"
   ]
  },
  {
   "cell_type": "markdown",
   "metadata": {},
   "source": [
    "# Fashion MNIST: More environments\n",
    "\n",
    "In the above experiments, we had 2 environments. We now explore the methods with more environments. We set number of environments to be 10. "
   ]
  },
  {
   "cell_type": "code",
   "execution_count": 44,
   "metadata": {},
   "outputs": [],
   "source": [
    "## Create data for each environment\n",
    "\n",
    "n_e = 10      # number of environments\n",
    "\n",
    "p_color_list = [0.2, 0.12, 0.19, 0.22, 0.16, 0.18,0.20, 0.14, 0.12, 0.1]  # list of probabilities of switching the final label to obtain the color index\n",
    "p_label_list = [0.25]*n_e                                                 # list of probabilities of switching pre-label\n",
    "\n",
    "D = assemble_data_mnist_fashion()                                         # initialize mnist fashion data object\n",
    "\n",
    "D.create_training_data(n_e, p_color_list, p_label_list)                  # creates the training environments\n",
    "\n",
    "p_label_test = 0.25     # probability of switching pre-label in test environment\n",
    "p_color_test = 0.9      # probability of switching the final label to obtain the color index in test environment\n",
    "\n",
    "D.create_testing_data(p_color_test, p_label_test, n_e)                   # creates the testing environments\n",
    "(num_examples_environment,length, width, height) = D.data_tuple_list[0][0].shape # attributes of the data\n",
    "num_classes = len(np.unique(D.data_tuple_list[0][1])) # number of classes in the data"
   ]
  },
  {
   "cell_type": "markdown",
   "metadata": {},
   "source": [
    "### Initialize the architecture for F-IRM game \n",
    "\n",
    "In the cell below, for each environment we initialize an architecture. We use the MLP architectue that was described in https://arxiv.org/pdf/2002.04692.pdf . \n",
    "\n",
    "If you decide to choose a new architecture, please take care to ensure that you keep the input shape as is that is length, width, and height (which we obtained above) and output shape as num_classes."
   ]
  },
  {
   "cell_type": "code",
   "execution_count": 45,
   "metadata": {},
   "outputs": [],
   "source": [
    "model_list = [] # we use same architecture across environments and store it in a list\n",
    "for e in range(n_e):\n",
    "    model_list.append(keras.Sequential([\n",
    "            keras.layers.Flatten(input_shape=(length, width,height)),\n",
    "            keras.layers.Dense(390, activation = 'elu'),\n",
    "             keras.layers.Dropout(0.75),\n",
    "            keras.layers.Dense(390, activation='elu'),\n",
    "             keras.layers.Dropout(0.75),\n",
    "            keras.layers.Dense(num_classes)\n",
    "    ]))"
   ]
  },
  {
   "cell_type": "markdown",
   "metadata": {},
   "source": [
    "### Select other hyper-parameters for the F-IRM game"
   ]
  },
  {
   "cell_type": "code",
   "execution_count": 46,
   "metadata": {},
   "outputs": [],
   "source": [
    "\n",
    "num_epochs       = 25\n",
    "batch_size       = 256\n",
    "termination_acc  = 0.75\n",
    "warm_start       = 10\n",
    "learning_rate    = 2.5e-4"
   ]
  },
  {
   "cell_type": "markdown",
   "metadata": {},
   "source": [
    "### Initialize F-IRM model, fit and evaluate"
   ]
  },
  {
   "cell_type": "code",
   "execution_count": 47,
   "metadata": {},
   "outputs": [
    {
     "name": "stdout",
     "output_type": "stream",
     "text": [
      "Epoch: 0\n",
      "Epoch: 1\n",
      "Epoch: 2\n",
      "Epoch: 3\n",
      "Training accuracy 0.7479259371757507\n",
      "Testing accuracy 0.6001111268997192\n"
     ]
    }
   ],
   "source": [
    "# initialize F-IRM model (we pass the hyper-parameters that we chose above)\n",
    "F_game = fixed_irm_game_model(model_list, learning_rate, num_epochs, batch_size, termination_acc, warm_start) \n",
    "\n",
    "# fit function runs the training on the data that we created\n",
    "F_game.fit(D.data_tuple_list)\n",
    "\n",
    "# evaluate function runs and evaluates train and test accuracy of the final model\n",
    "F_game.evaluate(D.data_tuple_test) \n",
    "\n",
    "# print train and test accuracy\n",
    "print (\"Training accuracy \" + str(F_game.train_acc)) \n",
    "print (\"Testing accuracy \" + str(F_game.test_acc))"
   ]
  },
  {
   "cell_type": "markdown",
   "metadata": {},
   "source": [
    "### Selecting termination_acc using training accuracy plot\n",
    "\n",
    "\n",
    "1. Start by setting a very low termination accuracy value say 0.1 and large number of epochs. \n",
    "2. Plot the training accuracy plot to see the range of oscillations; use the minimum value around which oscillation occurs as the threshold \n",
    "\n",
    "3. In the above experiment, we found 0.75 to be the value based on the plot."
   ]
  },
  {
   "cell_type": "code",
   "execution_count": 48,
   "metadata": {},
   "outputs": [
    {
     "data": {
      "text/plain": [
       "[<matplotlib.lines.Line2D at 0x2234938d0>]"
      ]
     },
     "execution_count": 48,
     "metadata": {},
     "output_type": "execute_result"
    },
    {
     "data": {
      "image/png": "[encoded data removed]",
      "text/plain": [
       "<Figure size 432x288 with 1 Axes>"
      ]
     },
     "metadata": {
      "needs_background": "light"
     },
     "output_type": "display_data"
    }
   ],
   "source": [
    "plt.xlabel(\"Training steps\")\n",
    "plt.ylabel(\"Training accuracy\")\n",
    "plt.plot(F_game.train_accuracy_results)"
   ]
  },
  {
   "cell_type": "markdown",
   "metadata": {},
   "source": [
    "### Initialize the architecture for V-IRM game\n",
    "\n",
    "In the cell below, for each environment we initialize an architecture. We use the MLP architectue that was described in https://arxiv.org/pdf/2002.04692.pdf . \n",
    "\n",
    "If you decide to choose a new architecture, please take care to ensure that you keep the input shape as is that is length, width, and height (which we obtained above) and output shape as num_classes."
   ]
  },
  {
   "cell_type": "code",
   "execution_count": 49,
   "metadata": {},
   "outputs": [],
   "source": [
    "model_list = [] # we use same architecture across environments and store it in a list and the last element of the list \n",
    "# corresponds to the architecture for the representation learner\n",
    "for e in range(n_e+1):\n",
    "    if(e<=n_e-1): \n",
    "        model_list.append( keras.Sequential([\n",
    "            keras.layers.Flatten(input_shape=(390,1)),\n",
    "            keras.layers.Dense(390, activation = 'elu'),\n",
    "            keras.layers.Dropout(0.75),\n",
    "            keras.layers.Dense(390, activation='elu'),\n",
    "            keras.layers.Dropout(0.75),\n",
    "            keras.layers.Dense(num_classes)\n",
    "        ]))\n",
    "    if(e==n_e):\n",
    "        model_list.append(keras.Sequential([\n",
    "        keras.layers.Flatten(input_shape=(length, width,height)),\n",
    "        keras.layers.Dense(390, activation = 'elu'),\n",
    "      ]))"
   ]
  },
  {
   "cell_type": "markdown",
   "metadata": {},
   "source": [
    "### Select other hyper-parameters for the V-IRM game\n"
   ]
  },
  {
   "cell_type": "code",
   "execution_count": 50,
   "metadata": {},
   "outputs": [],
   "source": [
    "num_epochs       = 25\n",
    "batch_size       = 64\n",
    "termination_acc  = 0.75\n",
    "warm_start       = 25\n",
    "learning_rate    = 2.5e-4"
   ]
  },
  {
   "cell_type": "markdown",
   "metadata": {},
   "source": [
    "### Initialize V-IRM model, fit and evaluate"
   ]
  },
  {
   "cell_type": "code",
   "execution_count": 51,
   "metadata": {},
   "outputs": [
    {
     "name": "stdout",
     "output_type": "stream",
     "text": [
      "Epoch: 0\n",
      "Epoch: 1\n",
      "Epoch: 2\n",
      "Epoch: 3\n",
      "Epoch: 4\n",
      "Epoch: 5\n",
      "Epoch: 6\n",
      "Epoch: 7\n",
      "Epoch: 8\n",
      "Epoch: 9\n",
      "0.7461296319961548\n",
      "0.5669999718666077\n"
     ]
    }
   ],
   "source": [
    "# initialize V-IRM model (we pass the hyper-parameters that we chose above)\n",
    "V_game = variable_irm_game_model(model_list, learning_rate, num_epochs, batch_size, termination_acc, warm_start) \n",
    "\n",
    "# fit function runs the training on the data that we created\n",
    "V_game.fit(D.data_tuple_list) \n",
    "\n",
    "# evaluate function runs and evaluates train and test accuracy of the final model\n",
    "V_game.evaluate(D.data_tuple_test) \n",
    "\n",
    "# print train and test accuracy\n",
    "print (V_game.train_acc)\n",
    "print (V_game.test_acc)"
   ]
  },
  {
   "cell_type": "markdown",
   "metadata": {},
   "source": [
    "### Selecting termination_acc using training accuracy plot\n",
    "\n",
    "\n",
    "1. Start by setting a very low termination accuracy value say 0.1 and large number of epochs. \n",
    "2. Plot the training accuracy plot to see the range of oscillations; use the minimum value around which oscillation occurs as the threshold \n",
    "\n",
    "3. In the above experiment, we found 0.75 to be the value based on the plot."
   ]
  },
  {
   "cell_type": "code",
   "execution_count": 52,
   "metadata": {},
   "outputs": [
    {
     "data": {
      "text/plain": [
       "[<matplotlib.lines.Line2D at 0x228c89f10>]"
      ]
     },
     "execution_count": 52,
     "metadata": {},
     "output_type": "execute_result"
    },
    {
     "data": {
      "image/png": "[encoded data removed]",
      "text/plain": [
       "<Figure size 432x288 with 1 Axes>"
      ]
     },
     "metadata": {
      "needs_background": "light"
     },
     "output_type": "display_data"
    }
   ],
   "source": [
    "plt.xlabel(\"Training steps\")\n",
    "plt.ylabel(\"Training accuracy\")\n",
    "plt.plot(V_game.train_accuracy_results)"
   ]
  },
  {
   "cell_type": "markdown",
   "metadata": {},
   "source": [
    "# Fashion MNIST: a simple CNN architecture"
   ]
  },
  {
   "cell_type": "code",
   "execution_count": 57,
   "metadata": {},
   "outputs": [],
   "source": [
    "## Create data for each environment\n",
    "\n",
    "n_e = 2\n",
    "p_color_list = [0.2, 0.1]\n",
    "p_label_list = [0.25]*n_e\n",
    "D = assemble_data_mnist_fashion()  ## assemble_data_mnist() initializes an object whose attributes contain the information about mnist digits data that we create\n",
    "## this can be replaced with assemble_data_fashion_mnist() for fashion mnist data\n",
    "D.create_training_data(n_e, p_color_list, p_label_list) ## sets up the training environments\n",
    "p_label_test = 0.25\n",
    "p_color_test = 0.9\n",
    "D.create_testing_data(p_color_test, p_label_test, n_e)  ## sets up the testing environments\n",
    "(num_examples_environment,length, width, height) = D.data_tuple_list[0][0].shape ## obtain attributes of the data\n",
    "num_classes = len(np.unique(D.data_tuple_list[0][1])) # number of classes in the data"
   ]
  },
  {
   "cell_type": "markdown",
   "metadata": {},
   "source": [
    "### Initialize the architecture for F-IRM game \n",
    "\n",
    "In the cell below, for each environment we initialize an architecture. We use a very simple CNN architectue for illustrative purposes. \n",
    "\n",
    "If you decide to choose a new architecture, please take care to ensure that you keep the input shape as is that is length, width, and height (which we obtained above) and output shape as num_classes."
   ]
  },
  {
   "cell_type": "code",
   "execution_count": 58,
   "metadata": {},
   "outputs": [],
   "source": [
    "\n",
    "model_list = [] # we use same architecture across environments and store it in a list\n",
    "for e in range(n_e):\n",
    "    model_list.append(keras.Sequential([\n",
    "           keras.layers.Conv2D(filters=64, kernel_size=2, padding='same', activation='elu', input_shape=(length,width,height)),\n",
    "                keras.layers.Flatten(),\n",
    "            keras.layers.Dense(390, activation = 'elu'),\n",
    "             keras.layers.Dropout(0.75),\n",
    "            keras.layers.Dense(390, activation='elu'),\n",
    "             keras.layers.Dropout(0.75),\n",
    "            keras.layers.Dense(num_classes)\n",
    "    ]))"
   ]
  },
  {
   "cell_type": "markdown",
   "metadata": {},
   "source": [
    "### Select other hyper-parameters for the F-IRM game"
   ]
  },
  {
   "cell_type": "code",
   "execution_count": 59,
   "metadata": {},
   "outputs": [],
   "source": [
    "\n",
    "num_epochs       = 25\n",
    "batch_size       = 64\n",
    "termination_acc  = 0.65\n",
    "warm_start       = 10\n",
    "learning_rate    = 2.5e-4"
   ]
  },
  {
   "cell_type": "markdown",
   "metadata": {},
   "source": [
    "### Initialize F-IRM model, fit and evaluate"
   ]
  },
  {
   "cell_type": "code",
   "execution_count": 60,
   "metadata": {},
   "outputs": [
    {
     "name": "stdout",
     "output_type": "stream",
     "text": [
      "Epoch: 0\n",
      "Training accuracy 0.6464444398880005\n",
      "Testing accuracy 0.5648888945579529\n"
     ]
    }
   ],
   "source": [
    "# initialize F-IRM model (we pass the hyper-parameters that we chose above)\n",
    "F_game = fixed_irm_game_model(model_list, learning_rate, num_epochs, batch_size, termination_acc, warm_start) \n",
    "\n",
    "# fit function runs the training on the data that we created\n",
    "F_game.fit(D.data_tuple_list)\n",
    "\n",
    "# evaluate function runs and evaluates train and test accuracy of the final model\n",
    "F_game.evaluate(D.data_tuple_test) \n",
    "\n",
    "# print train and test accuracy\n",
    "print (\"Training accuracy \" + str(F_game.train_acc)) \n",
    "print (\"Testing accuracy \" + str(F_game.test_acc))"
   ]
  },
  {
   "cell_type": "markdown",
   "metadata": {},
   "source": [
    "### Selecting termination_acc using training accuracy plot"
   ]
  },
  {
   "cell_type": "code",
   "execution_count": 61,
   "metadata": {},
   "outputs": [
    {
     "data": {
      "text/plain": [
       "[<matplotlib.lines.Line2D at 0x19ffe2750>]"
      ]
     },
     "execution_count": 61,
     "metadata": {},
     "output_type": "execute_result"
    },
    {
     "data": {
      "image/png": "[encoded data removed]",
      "text/plain": [
       "<Figure size 432x288 with 1 Axes>"
      ]
     },
     "metadata": {
      "needs_background": "light"
     },
     "output_type": "display_data"
    }
   ],
   "source": [
    "plt.xlabel(\"Training steps\")\n",
    "plt.ylabel(\"Training accuracy\")\n",
    "plt.plot(F_game.train_accuracy_results)"
   ]
  },
  {
   "cell_type": "markdown",
   "metadata": {},
   "source": [
    "## IRM (Arjovsky et.al.)\n",
    "\n",
    "In the previous cells, we compared F-IRM and V-IRM approach for 2 environments, multiple environments, and also illustrated the flexibility of using CNN vs MLP. In cells to follow, we compare benchmarks starting with the most important https://arxiv.org/pdf/1907.02893.pdf"
   ]
  },
  {
   "cell_type": "markdown",
   "metadata": {},
   "source": [
    "### Fashion MNIST: 2 environments"
   ]
  },
  {
   "cell_type": "code",
   "execution_count": 15,
   "metadata": {},
   "outputs": [],
   "source": [
    "# Create data for each environment\n",
    "\n",
    "n_e = 2    # number of environments\n",
    "\n",
    "p_color_list = [0.2, 0.1]   # list of probabilities of switching the final label to obtain the color index\n",
    "p_label_list = [0.25]*n_e   # list of probabilities of switching pre-label\n",
    "D = assemble_data_mnist_fashion()  # initialize mnist fashion data object\n",
    "\n",
    "D.create_training_data(n_e, p_color_list, p_label_list) # create the training environments\n",
    "p_label_test = 0.25     # probability of switching pre-label in test environment\n",
    "p_color_test = 0.9      # probability of switching the final label to obtain the color index in test environment\n",
    "\n",
    "D.create_testing_data(p_color_test, p_label_test, n_e)  # create the testing environments\n",
    "(num_examples_environment,length, width, height) = D.data_tuple_list[0][0].shape # attributes of the data\n",
    "num_classes = len(np.unique(D.data_tuple_list[0][1])) # number of classes in the data"
   ]
  },
  {
   "cell_type": "markdown",
   "metadata": {},
   "source": [
    "### Initialize the architecture for IRM\n",
    "\n",
    "The architecture is same as one described here https://github.com/facebookresearch/InvariantRiskMinimization"
   ]
  },
  {
   "cell_type": "code",
   "execution_count": 19,
   "metadata": {},
   "outputs": [],
   "source": [
    "model_irm = keras.Sequential([\n",
    "                keras.layers.Flatten(input_shape=(length,width,height)),\n",
    "                keras.layers.Dense(390, activation = 'relu',kernel_regularizer=keras.regularizers.l2(0.0011)),\n",
    "                keras.layers.Dense(390, activation='relu',kernel_regularizer=keras.regularizers.l2(0.0011)),\n",
    "                keras.layers.Dense(num_classes)\n",
    "        ])"
   ]
  },
  {
   "cell_type": "markdown",
   "metadata": {},
   "source": [
    "### Select other hyper-parameters for the IRM model"
   ]
  },
  {
   "cell_type": "code",
   "execution_count": 20,
   "metadata": {},
   "outputs": [],
   "source": [
    "batch_size       = 256\n",
    "steps_max        = 500\n",
    "steps_threshold  = 190  ## threshold after which gamma_new is used\n",
    "learning_rate    = 4.89e-4\n",
    "gamma_new        = 91257\n"
   ]
  },
  {
   "cell_type": "markdown",
   "metadata": {},
   "source": [
    "### IRM model initialize, fit, and evaluate"
   ]
  },
  {
   "cell_type": "code",
   "execution_count": 21,
   "metadata": {},
   "outputs": [
    {
     "name": "stdout",
     "output_type": "stream",
     "text": [
      "Training accuracy:0.4917962849140167\n",
      "Testing accuracy:0.5868889093399048\n"
     ]
    }
   ],
   "source": [
    "irm_model1 = irm_model(model_irm, learning_rate, batch_size, steps_max, steps_threshold, gamma_new)\n",
    "irm_model1.fit(D.data_tuple_list)\n",
    "irm_model1.evaluate(D.data_tuple_test)\n",
    "print (\"Training accuracy:\" + str(irm_model1.train_acc))\n",
    "print (\"Testing accuracy:\" + str(irm_model1.test_acc))"
   ]
  },
  {
   "cell_type": "markdown",
   "metadata": {},
   "source": [
    "### Fashion MNIST: 10 environments"
   ]
  },
  {
   "cell_type": "code",
   "execution_count": 4,
   "metadata": {},
   "outputs": [],
   "source": [
    "## Create data for each environment\n",
    "\n",
    "n_e = 10      # number of environments\n",
    "\n",
    "p_color_list = [0.2, 0.12, 0.19, 0.22, 0.16, 0.18,0.20, 0.14, 0.12, 0.1]  # list of probabilities of switching the final label to obtain the color index\n",
    "p_label_list = [0.25]*n_e                                                 # list of probabilities of switching pre-label\n",
    "\n",
    "D = assemble_data_mnist_fashion()                                         # initialize mnist fashion data object\n",
    "\n",
    "D.create_training_data(n_e, p_color_list, p_label_list)                  # creates the training environments\n",
    "\n",
    "p_label_test = 0.25     # probability of switching pre-label in test environment\n",
    "p_color_test = 0.9      # probability of switching the final label to obtain the color index in test environment\n",
    "\n",
    "D.create_testing_data(p_color_test, p_label_test, n_e)                   # creates the testing environments\n",
    "(num_examples_environment,length, width, height) = D.data_tuple_list[0][0].shape # attributes of the data\n",
    "num_classes = len(np.unique(D.data_tuple_list[0][1])) # number of classes in the data"
   ]
  },
  {
   "cell_type": "markdown",
   "metadata": {},
   "source": [
    "### Initialize the architecture for IRM"
   ]
  },
  {
   "cell_type": "code",
   "execution_count": 5,
   "metadata": {},
   "outputs": [],
   "source": [
    "model_irm = keras.Sequential([\n",
    "                keras.layers.Flatten(input_shape=(length,width,height)),\n",
    "                keras.layers.Dense(390, activation = 'relu',kernel_regularizer=keras.regularizers.l2(0.0011)),\n",
    "                keras.layers.Dense(390, activation='relu',kernel_regularizer=keras.regularizers.l2(0.0011)),\n",
    "                keras.layers.Dense(num_classes)\n",
    "        ])"
   ]
  },
  {
   "cell_type": "markdown",
   "metadata": {},
   "source": [
    "### Select other hyper-parameters for the IRM model"
   ]
  },
  {
   "cell_type": "code",
   "execution_count": 6,
   "metadata": {},
   "outputs": [],
   "source": [
    "batch_size       = 256\n",
    "steps_max        = 500\n",
    "steps_threshold  = 190  ## threshold after which gamma_new is used\n",
    "learning_rate    = 2.5e-4\n",
    "gamma_new        = 91257\n"
   ]
  },
  {
   "cell_type": "markdown",
   "metadata": {},
   "source": [
    "### Initialize IRM model, fit and evaluate"
   ]
  },
  {
   "cell_type": "code",
   "execution_count": 74,
   "metadata": {},
   "outputs": [
    {
     "name": "stdout",
     "output_type": "stream",
     "text": [
      "Training accuracy:0.5136296153068542\n",
      "Testing accuracy:0.5196508169174194\n"
     ]
    }
   ],
   "source": [
    "irm_model1 = irm_model(model_irm, learning_rate, batch_size, steps_max, steps_threshold, gamma_new)\n",
    "irm_model1.fit(D.data_tuple_list)\n",
    "irm_model1.evaluate(D.data_tuple_test)\n",
    "print (\"Training accuracy:\" + str(irm_model1.train_acc))\n",
    "print (\"Testing accuracy:\" + str(irm_model1.test_acc))"
   ]
  },
  {
   "cell_type": "markdown",
   "metadata": {},
   "source": [
    "## Standard ERM \n",
    "### 2 environments"
   ]
  },
  {
   "cell_type": "code",
   "execution_count": 4,
   "metadata": {},
   "outputs": [],
   "source": [
    "## Create data for each environment\n",
    "\n",
    "n_e = 2\n",
    "p_color_list = [0.2, 0.1]\n",
    "# p_color_list = [0.2, 0.12, 0.19, 0.22, 0.16, 0.18,0.20, 0.14, 0.12, 0.1]\n",
    "p_label_list = [0.25]*n_e\n",
    "D = assemble_data_mnist_fashion()  ## assemble_data_mnist() initializes an object whose attributes contain the information about mnist digits data that we create\n",
    "## this can be replaced with assemble_data_fashion_mnist() for fashion mnist data\n",
    "D.create_training_data(n_e, p_color_list, p_label_list) ## sets up the training environments\n",
    "p_label_test = 0.25\n",
    "p_color_test = 0.9\n",
    "D.create_testing_data(p_color_test, p_label_test, n_e)  ## sets up the testing environments\n",
    "(num_examples_environment,length, width, height) = D.data_tuple_list[0][0].shape ## obtain attributes of the data\n",
    "num_classes = len(np.unique(D.data_tuple_list[0][1])) # number of classes in the data"
   ]
  },
  {
   "cell_type": "code",
   "execution_count": 5,
   "metadata": {},
   "outputs": [
    {
     "name": "stdout",
     "output_type": "stream",
     "text": [
      "WARNING:tensorflow:Large dropout rate: 0.75 (>0.5). In TensorFlow 2.x, dropout() uses dropout rate instead of keep_prob. Please ensure that this is intended.\n",
      "WARNING:tensorflow:Large dropout rate: 0.75 (>0.5). In TensorFlow 2.x, dropout() uses dropout rate instead of keep_prob. Please ensure that this is intended.\n"
     ]
    }
   ],
   "source": [
    "model_erm = keras.Sequential([\n",
    "        keras.layers.Flatten(input_shape=(28, 28,2)),\n",
    "        keras.layers.Dense(390, activation = 'elu',kernel_regularizer=keras.regularizers.l2(0.00125)),\n",
    "        keras.layers.Dropout(0.75),\n",
    "        keras.layers.Dense(390, activation='elu',kernel_regularizer=keras.regularizers.l2(0.00125)),\n",
    "        keras.layers.Dropout(0.75),\n",
    "        #     keras.layers.Dense(128, activation='relu'),\n",
    "        keras.layers.Dense(2, activation='softmax')\n",
    "    ])"
   ]
  },
  {
   "cell_type": "code",
   "execution_count": 6,
   "metadata": {},
   "outputs": [
    {
     "name": "stdout",
     "output_type": "stream",
     "text": [
      "WARNING:tensorflow:From /Users/kartikahuja/Desktop/Python_codes/aif360.env/lib/python3.7/site-packages/tensorflow/python/ops/math_grad.py:1250: add_dispatch_support.<locals>.wrapper (from tensorflow.python.ops.array_ops) is deprecated and will be removed in a future version.\n",
      "Instructions for updating:\n",
      "Use tf.where in 2.0, which has the same broadcast rule as np.where\n",
      "Epoch 1/10\n",
      "54000/54000 [==============================] - 2s 44us/sample - loss: 1.2173 - acc: 0.8115\n",
      "Epoch 2/10\n",
      "54000/54000 [==============================] - 2s 42us/sample - loss: 0.5690 - acc: 0.8309\n",
      "Epoch 3/10\n",
      "54000/54000 [==============================] - 2s 44us/sample - loss: 0.4777 - acc: 0.8309\n",
      "Epoch 4/10\n",
      "54000/54000 [==============================] - 2s 45us/sample - loss: 0.4647 - acc: 0.8315\n",
      "Epoch 5/10\n",
      "54000/54000 [==============================] - 3s 47us/sample - loss: 0.4635 - acc: 0.8297\n",
      "Epoch 6/10\n",
      "54000/54000 [==============================] - 3s 49us/sample - loss: 0.4749 - acc: 0.8284\n",
      "Epoch 7/10\n",
      "54000/54000 [==============================] - 3s 52us/sample - loss: 0.4785 - acc: 0.8285\n",
      "Epoch 8/10\n",
      "54000/54000 [==============================] - 3s 52us/sample - loss: 0.4859 - acc: 0.8292\n",
      "Epoch 9/10\n",
      "54000/54000 [==============================] - 3s 52us/sample - loss: 0.4936 - acc: 0.8265\n",
      "Epoch 10/10\n",
      "54000/54000 [==============================] - 3s 54us/sample - loss: 0.4966 - acc: 0.8285\n",
      "Training accuracy:0.8437592387199402\n",
      "Testing accuracy:0.15466666221618652\n"
     ]
    }
   ],
   "source": [
    "num_epochs = 10\n",
    "batch_size = 256\n",
    "learning_rate = 2.5e-3\n",
    "erm_model1 = standard_erm_model(model_erm, num_epochs, batch_size, learning_rate)\n",
    "erm_model1.fit(D.data_tuple_list)\n",
    "erm_model1.evaluate(D.data_tuple_test)\n",
    "print (\"Training accuracy:\" + str(erm_model1.train_acc))\n",
    "print (\"Testing accuracy:\" + str(erm_model1.test_acc))"
   ]
  }
 ],
 "metadata": {
  "kernelspec": {
   "display_name": "Python 3",
   "language": "python",
   "name": "python3"
  },
  "language_info": {
   "codemirror_mode": {
    "name": "ipython",
    "version": 3
   },
   "file_extension": ".py",
   "mimetype": "text/x-python",
   "name": "python",
   "nbconvert_exporter": "python",
   "pygments_lexer": "ipython3",
   "version": "3.7.6"
  }
 },
 "nbformat": 4,
 "nbformat_minor": 2
}
